{
 "cells": [
  {
   "cell_type": "markdown",
   "metadata": {},
   "source": [
    "# ipl I317B Sécurité : labos\n",
    "## Semaine 5: pcaps and probes"
   ]
  },
  {
   "cell_type": "markdown",
   "metadata": {},
   "source": [
    "Dans cette fiche d'exercice, nous allons nous attarder sur certaines particularités de la norme 802.11, c'est-à-dire, le Wi-Fi et leurs implications sur la vie privée.\n",
    "\n",
    "Nous allons observer les [management frames](https://en.wikipedia.org/wiki/IEEE_802.11#Management_frames) et particulièrement les « probe request frame » et les « probe response frame ». Celle-ci servent respectivement a demander à une station des informations et à répondre à cette demande.\n",
    "\n",
    "L'[article suivant](https://www.enisa.europa.eu/publications/info-notes/passive-wifi-surveillance-and-access-point-hijacking) publié par l'ENISA, résume plutôt bien les problématiques que soulève le Wi-Fi tandis que [celui-ci](https://mrncciew.com/2014/10/27/cwap-802-11-probe-requestresponse/) entre un peu plus dans la technique.\n",
    "\n",
    "Si vous souhaitez aller plus loin, une attaque exploitant cette \"fonctionnalité\" a été formalisée sous le nom [KARMA](https://en.wikipedia.org/wiki/KARMA_attack)."
   ]
  },
  {
   "cell_type": "markdown",
   "metadata": {},
   "source": [
    "Pour cet exercice, nous allons utiliser un fichier pcap `capture-180214.pcap` que vous pourez trouver sur moodle. Ce paquet représente une capture Wi-Fi dans Louvain-La-Neuve et ses environs. Les paquets ont été filtré pour ne laisser que les paquets probe request et response."
   ]
  },
  {
   "cell_type": "code",
   "execution_count": 1,
   "metadata": {
    "scrolled": true
   },
   "outputs": [
    {
     "name": "stdout",
     "output_type": "stream",
     "text": [
      "###[ RadioTap dummy ]### \n",
      "  version   = 0\n",
      "  pad       = 0\n",
      "  len       = 36\n",
      "  present   = TSFT+Flags+Rate+Channel+dBm_AntSignal+RXFlags+RadiotapNS+Ext\n",
      "  \\Ext       \\\n",
      "   |###[ RadioTap Extended presence mask ]### \n",
      "   |  present   = b5+b11\n",
      "  mac_timestamp= 6034608\n",
      "  Flags     = FCS\n",
      "  Rate      = 2\n",
      "  ChannelFrequency= 2457\n",
      "  ChannelFlags= CCK+2GHz\n",
      "  dBm_AntSignal= -83dBm\n",
      "  RXFlags   = \n",
      "  notdecoded= '\\xad\\x00'\n",
      "###[ 802.11-FCS ]### \n",
      "     subtype   = 4\n",
      "     type      = Management\n",
      "     proto     = 0\n",
      "     FCfield   = \n",
      "     ID        = 0\n",
      "     addr1     = ff:ff:ff:ff:ff:ff\n",
      "     addr2     = da:a1:19:01:85:98\n",
      "     addr3     = ff:ff:ff:ff:ff:ff\n",
      "     SC        = 4944\n",
      "     fcs       = 0x1f4eabb\n",
      "###[ 802.11 Probe Request ]### \n",
      "###[ 802.11 Information Element ]### \n",
      "           ID        = SSID\n",
      "           len       = 12\n",
      "           info      = 'VodafoneWiFi'\n",
      "###[ 802.11 Rates ]### \n",
      "           ID        = 1\n",
      "           len       = 4\n",
      "           rates     = [0x2, 0x4, 0xb, 0x16]\n",
      "###[ 802.11 Information Element ]### \n",
      "           ID        = ESRates\n",
      "           len       = 8\n",
      "           info      = '\\x0c\\x12\\x18$0H`l'\n",
      "###[ 802.11 Information Element ]### \n",
      "           ID        = DSset\n",
      "           len       = 1\n",
      "           info      = '\\t'\n",
      "###[ 802.11 Information Element ]### \n",
      "           ID        = HTCapabilities\n",
      "           len       = 26\n",
      "           info      = '\\xa1\\x01\\x17\\xff\\xff\\x00\\x00\\x00\\x00\\x00\\x00\\x00\\x00\\x00\\x00\\x00\\x00\\x00\\x00\\x00\\x00\\x00\\x00\\x00\\x00\\x00'\n",
      "###[ 802.11 Information Element ]### \n",
      "           ID        = ExtendendCapatibilities\n",
      "           len       = 6\n",
      "           info      = '\\x00\\x08\\x0f\\x84\\x01@'\n",
      "###[ 802.11 Information Element ]### \n",
      "           ID        = Interworking\n",
      "           len       = 1\n",
      "           info      = '\\x0f'\n",
      "###[ 802.11 Vendor Specific ]### \n",
      "           ID        = 221\n",
      "           len       = 13\n",
      "           oui       = 0x506f9a\n",
      "           info      = '\\n\\x00\\x00\\x06\\x00\\x10\\x1cD\\x002'\n",
      "###[ 802.11 Vendor Specific ]### \n",
      "           ID        = 221\n",
      "           len       = 17\n",
      "           oui       = 0x506f9a\n",
      "           info      = '\\t\\x02\\x02\\x00%\\x00\\x06\\x05\\x00BE\\x04Q\\x0b'\n",
      "###[ 802.11 Vendor Specific ]### \n",
      "           ID        = 221\n",
      "           len       = 5\n",
      "           oui       = 0x506f9a\n",
      "           info      = '\\x10\\x10'\n",
      "###[ 802.11 Vendor Specific ]### \n",
      "           ID        = 221\n",
      "           len       = 19\n",
      "           oui       = 0x904c\n",
      "           info      = '\\x04\\x08\\xbf\\x0c\\x92x\\x91\\x0f\\xfa\\xff\\x00\\x00\\xfa\\xff\\x00\\x00'\n",
      "###[ 802.11 Vendor Specific ]### \n",
      "           ID        = 221\n",
      "           len       = 8\n",
      "           oui       = 0x50f2\n",
      "           info      = '\\x08\\x00\\x12\\x00\\x0b'\n",
      "###[ 802.11 Vendor Specific ]### \n",
      "           ID        = 221\n",
      "           len       = 9\n",
      "           oui       = 0x1018\n",
      "           info      = '\\x02\\x00\\x00\\x12\\x00\\x00'\n",
      "\n",
      "None\n"
     ]
    }
   ],
   "source": [
    "from datetime import datetime\n",
    "from scapy.all import *\n",
    "\n",
    "# On peut lire le fichier d'un seul coup et tout mettre dans une liste ...\n",
    "# => plusieurs giga en ram (3Gb ?)\n",
    "# all_packets = rdpcap('capture-180214.pcap')\n",
    "# \n",
    "# Pour éviter ça, on peut parcourir le fichier itérativement :\n",
    "for packet in PcapReader('capture-180214.pcap'):\n",
    "    print(packet.show())\n",
    "    break"
   ]
  },
  {
   "cell_type": "code",
   "execution_count": 2,
   "metadata": {
    "scrolled": false
   },
   "outputs": [
    {
     "name": "stdout",
     "output_type": "stream",
     "text": [
      "2018-02-14 12:07:15\n",
      "f0:5b:7b:1d:96:d7\n",
      "00:1b:63:2d:8f:81\n",
      "b'Univers sant\\xc3\\xa9'\n"
     ]
    }
   ],
   "source": [
    "for packet in PcapReader('capture-180214.pcap'):\n",
    "    if packet.haslayer(Dot11ProbeResp): # ou packet.haslayer(Dot11ProbeReq):\n",
    "        print(datetime.utcfromtimestamp(\n",
    "            int(packet.getlayer(RadioTap).time)\n",
    "        ))\n",
    "        print(packet.getlayer(RadioTap).addr1)  # Destination\n",
    "        print(packet.getlayer(RadioTap).addr2)  # Source\n",
    "        print(packet.getlayer(Dot11ProbeResp).info)  # essid\n",
    "        \n",
    "        break  # demo time -> on va pas print tout le fichier donc on break"
   ]
  },
  {
   "cell_type": "markdown",
   "metadata": {},
   "source": [
    "### Exercice 1a:\n",
    "Pour ce premier exercice, le but est de récupérer la liste des points d'accès vu lors de cette capture. Concentrez-vous donc dans un premier temps sur les paquets « response » et récupérer les essid et les adresses mac des différents hotspot croisé. Le nombre de mac correspond-il au nombre de essid vu ? Pourquoi ?"
   ]
  },
  {
   "cell_type": "code",
   "execution_count": 3,
   "metadata": {},
   "outputs": [],
   "source": [
    "#TODO"
   ]
  },
  {
   "cell_type": "markdown",
   "metadata": {},
   "source": [
    "### Exercice 1b:\n",
    "Intéressez-vous maintenant à ce qui fait tout le charme des request probes et récupérez la liste des points d'accès connu pour chaque device vu lors de cette capture."
   ]
  },
  {
   "cell_type": "code",
   "execution_count": 4,
   "metadata": {},
   "outputs": [],
   "source": [
    "#TODO"
   ]
  },
  {
   "cell_type": "markdown",
   "metadata": {},
   "source": [
    "### Ex2 :\n",
    "Les propriétaires des devices 48:db:50:6d:4e:aa et 6c:8f:b5:49:e4:34 ont de chouettes voyages, pouvez-vous à partir de leur mac et des données récolter, faire quelques suppositions sur les lieux qu'ils ont visité ?"
   ]
  },
  {
   "cell_type": "code",
   "execution_count": 5,
   "metadata": {
    "scrolled": true
   },
   "outputs": [],
   "source": [
    "#TODO"
   ]
  },
  {
   "cell_type": "markdown",
   "metadata": {},
   "source": [
    "### Ex ++\n",
    "Pour aller plus loin, pouvez-vous essayer de représenter les données précédement récupérée dans des graphique [de série temporelle](https://stackoverflow.com/a/19079248) (timeseries) avec [matplotlib](http://pandas.pydata.org/pandas-docs/version/0.13/visualization.html). Par exemple, traçant le graphe de la [puissance de réception](https://stackoverflow.com/a/37839067) en fonction du temps pour chaque point d'accès vu. Que pouvez-vous déduire de ce graphe ?"
   ]
  },
  {
   "cell_type": "code",
   "execution_count": 6,
   "metadata": {},
   "outputs": [
    {
     "data": {
      "image/png": "[encoded data removed]",
      "text/plain": [
       "<Figure size 720x360 with 1 Axes>"
      ]
     },
     "metadata": {
      "needs_background": "light"
     },
     "output_type": "display_data"
    }
   ],
   "source": [
    "# exemple d'utilisation de mathplotlib :\n",
    "import matplotlib.pyplot as plt\n",
    "import matplotlib.dates as md\n",
    "\n",
    "# force bigger size\n",
    "plt.rcParams['figure.figsize'] = [10, 5]\n",
    "\n",
    "# force timestamp format\n",
    "ax=plt.gca()\n",
    "xfmt = md.DateFormatter('%H:%M')\n",
    "ax.xaxis.set_major_formatter(xfmt)\n",
    "\n",
    "x = []   # some datetime\n",
    "for _ in range(4):\n",
    "    x.append(datetime(2018, 11, 21, 8 + _, 30, 0, 0))\n",
    "    \n",
    "y = [3,2,3,2.75]  # some values\n",
    "\n",
    "plt.plot(x, y)\n",
    "\n",
    "plt.show()"
   ]
  },
  {
   "cell_type": "code",
   "execution_count": 7,
   "metadata": {},
   "outputs": [],
   "source": [
    "#TODO"
   ]
  }
 ],
 "metadata": {
  "kernelspec": {
   "display_name": "Python 3",
   "language": "python",
   "name": "python3"
  },
  "language_info": {
   "codemirror_mode": {
    "name": "ipython",
    "version": 3
   },
   "file_extension": ".py",
   "mimetype": "text/x-python",
   "name": "python",
   "nbconvert_exporter": "python",
   "pygments_lexer": "ipython3",
   "version": "3.6.9"
  }
 },
 "nbformat": 4,
 "nbformat_minor": 2
}
