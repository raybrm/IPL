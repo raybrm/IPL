{
 "cells": [
  {
   "cell_type": "markdown",
   "metadata": {},
   "source": [
    "# ipl I317B Sécurité : labos\n",
    "## Semaine 3 : Vulnérabilitées web (2)"
   ]
  },
  {
   "cell_type": "markdown",
   "metadata": {},
   "source": [
    "### Exercice 0a:\n",
    "Pour ce nouvel exercice, nous allons utiliser un nouveau formulaire. Ce formulaire nous permet de chercher parmi les éléments du tableau périodique des éléments. Par exemple, si vous cherchez \"Co*\", vous obtiendrez les informations sur le copper (cuivre) et le cobalt.\n",
    "\n",
    "http://labosecuipl.alwaysdata.net/20/s02/ex6/\n",
    "\n",
    "Commencez par récupérer le numéro de version de notre base de donnée. Ici, nous connaissons le type de base de donnée : SQLITE, un petit détour par la documentation nous permet de connaître la fonction parfait pour cela : https://www.sqlite.org/lang_corefunc.html#sqlite_version."
   ]
  },
  {
   "cell_type": "code",
   "execution_count": 1,
   "metadata": {},
   "outputs": [],
   "source": [
    "#TODO"
   ]
  },
  {
   "cell_type": "markdown",
   "metadata": {},
   "source": [
    "Pouvez-vous en déduire la syntaxe de la requête SQL présente dans ce formulaire et dans laquelle votre injection fonctionne ?"
   ]
  },
  {
   "cell_type": "markdown",
   "metadata": {},
   "source": [
    "..."
   ]
  },
  {
   "cell_type": "markdown",
   "metadata": {},
   "source": [
    "### Exercice 0b:\n",
    "Dans le même ordre d’idée, je vous invite à récupérer la liste des tables présentes dans cette base de donnée.\n",
    "Comme souvent, la lecture de la documentation peut vous faciliter la vie : https://www.sqlite.org/faq.html#q7 mais pas trop ... parce que, spoiler : le site de notre développeur nécessite d'utiliser un des noms alternatif défini ailleurs dans la doc : https://sqlite.org/schematab.html#alternative_names"
   ]
  },
  {
   "cell_type": "code",
   "execution_count": 2,
   "metadata": {},
   "outputs": [],
   "source": [
    "#TODO"
   ]
  },
  {
   "cell_type": "markdown",
   "metadata": {},
   "source": [
    "### Exercice 0c:\n",
    "Maintenant que vous connaissez toutes les tables dans cette base de données ainsi que le nom de chaque champ, pourquoi ne pas récupérer le contenu de chacune de ces tables ?"
   ]
  },
  {
   "cell_type": "code",
   "execution_count": 3,
   "metadata": {},
   "outputs": [],
   "source": [
    "#TODO"
   ]
  },
  {
   "cell_type": "markdown",
   "metadata": {},
   "source": [
    "### Exercice 1:\n",
    "Revenons un peux en arrière sur le site de notre mauvais développeur. Notre espion nous a fait savoir que le site utilise sqlite comme système de gestion de base de donnée. Nous aimerions en identifier la version. Utilisez le site de l'exercice 1 pour récupérer cette information.\n",
    "\n",
    "http://labosecuipl.alwaysdata.net/20/s02/ex1/\n",
    "\n",
    "Tips :\n",
    "* la fonction `sqlite_version()` renvoit un [numéro de version](https://www.sqlite.org/chronology.html) sous la forme d'une string `1.2.3` ou `1.2.3.4`\n",
    "* en sql vous pouvez caster un string représentant un entier avec `cast(\"7\" as INTEGER)`  \n",
    "  Par exemple pour le comparer : `cast(\"7\" as INTEGER) < 8`.\n",
    "* vous pouvez couper des strings avec substr(input_string, start_index, length)"
   ]
  },
  {
   "cell_type": "code",
   "execution_count": 4,
   "metadata": {},
   "outputs": [],
   "source": [
    "# On coupe le problème en 2 :\n",
    "# 1) s'abstraire de la partie injection SQL en l'emballant dans une fonction\n",
    "# 2) utiliser notre fonction pour faire une recherche algorithmique"
   ]
  },
  {
   "cell_type": "code",
   "execution_count": 5,
   "metadata": {},
   "outputs": [
    {
     "name": "stdout",
     "output_type": "stream",
     "text": [
      "Implementation error ...\n",
      "Implementation error ...\n"
     ]
    }
   ],
   "source": [
    "import requests\n",
    "\n",
    "# (1)\n",
    "def sqli_evaluate(sql_expression):\n",
    "    \"\"\"\n",
    "    Évalue une expression sql et revoit si elle est vrai ou fausse.\n",
    "    \"\"\"\n",
    "    #TODO\n",
    "    return False\n",
    "\n",
    "\n",
    "\n",
    "# exemple d'utilisation :\n",
    "if sqli_evaluate(\"1<2\") != True:\n",
    "    print(\"Implementation error ...\")\n",
    "    \n",
    "if sqli_evaluate(\"1>2\") != False:\n",
    "    print(\"Implementation error ...\")\n",
    "    \n",
    "if sqli_evaluate('\"1\" LIKE \"1\"') != True:\n",
    "    print(\"Implementation error ...\")"
   ]
  },
  {
   "cell_type": "code",
   "execution_count": 6,
   "metadata": {
    "scrolled": true
   },
   "outputs": [],
   "source": [
    "# (2) utilisez sqli_evaluate pour faire une recherche exaustive/dichotomique/...\n",
    "#TODO"
   ]
  },
  {
   "cell_type": "markdown",
   "metadata": {},
   "source": [
    "### Exercice 2:\n",
    "Pour ce dernier exercice, vous allez travailler un peu à l'aveugle. En effet, la page suicitant notre intérêt cette fois-ci ne contient pas grand chose à part à un bouton ... mais elle est injectable (promis) !\n",
    "\n",
    "À vous de trouvez comment et de récupérer la version du système de gestion de base de donnée : http://labosecuipl.alwaysdata.net/20/s03/ex2/\n",
    "\n",
    "Tips:\n",
    "  - Cette fois-ci, c'est plus du sqlite : https://mariadb.com/kb/en/version/\n",
    "  - Et vous travaillez à l'aveugle ;-)"
   ]
  },
  {
   "cell_type": "code",
   "execution_count": 7,
   "metadata": {},
   "outputs": [],
   "source": [
    "import time\n",
    "\n",
    "#TODO"
   ]
  }
 ],
 "metadata": {
  "kernelspec": {
   "display_name": "Python 3",
   "language": "python",
   "name": "python3"
  },
  "language_info": {
   "codemirror_mode": {
    "name": "ipython",
    "version": 3
   },
   "file_extension": ".py",
   "mimetype": "text/x-python",
   "name": "python",
   "nbconvert_exporter": "python",
   "pygments_lexer": "ipython3",
   "version": "3.6.9"
  }
 },
 "nbformat": 4,
 "nbformat_minor": 4
}
