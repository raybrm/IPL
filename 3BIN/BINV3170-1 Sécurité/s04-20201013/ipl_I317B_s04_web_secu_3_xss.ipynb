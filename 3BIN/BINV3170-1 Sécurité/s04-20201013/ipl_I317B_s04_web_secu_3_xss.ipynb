{
 "cells": [
  {
   "cell_type": "markdown",
   "metadata": {},
   "source": [
    "# ipl I317B Sécurité : labos\n",
    "## Semaine 4: Vulnérabilitées web, injection XSS\n",
    "\n",
    "\n",
    "Après les injections SQL, il est temps de passer à un autre type d'injection : les injections XSS. Pour ces exercices, je vous recommande d'utiliser le navigateur Firefox plutôt que Chrome, ce dernier dispose de certaines contre-mesures qui peut perturber les exercices."
   ]
  },
  {
   "cell_type": "markdown",
   "metadata": {},
   "source": [
    "### Exercice 1a:\n",
    "Pour ce premier exercice, le but est de procéder à une injection xss trivial sur une variante le site suivant permettant de chercher les éléments du tableau périodique des éléments : http://labosecuipl.alwaysdata.net/20/s04/ex1/\n",
    "Votre injection doit afficher une alerte affichant le texte : \"I hacked you\"\n",
    "\n",
    "Quelle valeur avez-vous entrée et où l'avez vous entrée ?"
   ]
  },
  {
   "cell_type": "raw",
   "metadata": {},
   "source": []
  },
  {
   "cell_type": "markdown",
   "metadata": {},
   "source": [
    "### Exercice 1b:\n",
    "Pouvez-vous également récolter les cookies du site de l'exercice 1a avec votre injection xss ?"
   ]
  },
  {
   "cell_type": "raw",
   "metadata": {},
   "source": []
  },
  {
   "cell_type": "markdown",
   "metadata": {},
   "source": [
    "### Exercice 1c:\n",
    "Pouvez-vous essayer les mêmes injections sur le formulaire suivant : http://labosecuipl.alwaysdata.net/20/s04/ex1c/ ?"
   ]
  },
  {
   "cell_type": "raw",
   "metadata": {},
   "source": []
  },
  {
   "cell_type": "markdown",
   "metadata": {},
   "source": [
    "### Exercice 1d:\n",
    "Pouvez-vous essayer les mêmes injections sur le formulaire suivant : http://labosecuipl.alwaysdata.net/20/s04/ex1d/ ?"
   ]
  },
  {
   "cell_type": "raw",
   "metadata": {},
   "source": []
  },
  {
   "cell_type": "markdown",
   "metadata": {},
   "source": [
    "### Exercice 1e:\n",
    "Pouvez-vous essayer les mêmes injections sur le formulaire suivant : http://labosecuipl.alwaysdata.net/20/s04/ex1e/ ?"
   ]
  },
  {
   "cell_type": "raw",
   "metadata": {},
   "source": []
  },
  {
   "cell_type": "markdown",
   "metadata": {},
   "source": [
    "### Exercice 2a:\n",
    "Pour ce second exercice, vous allez utilisez le site, je vous invite à utiliser le service https://requestbin.net/ pour \"exfiltrer\" les cookies que vous avez récupérer lors du premier exercice :  http://labosecuipl.alwaysdata.net/20/s04/ex1/"
   ]
  },
  {
   "cell_type": "raw",
   "metadata": {},
   "source": []
  },
  {
   "cell_type": "markdown",
   "metadata": {},
   "source": [
    "### Exercice 2b:\n",
    "Pour ce second exercice, vous allez utilisez le site https://labosecuipl.alwaysdata.net/20/s04/ironbank/ sur lequel vous pouvez créer un compte. Votre objectif est de récupérer les cookies de l'administrateur."
   ]
  },
  {
   "cell_type": "raw",
   "metadata": {},
   "source": []
  },
  {
   "cell_type": "markdown",
   "metadata": {},
   "source": [
    "### Exercice 2c:\n",
    "Bien, maintenant que vous avez voler les cookies de l'administrateur, parvenez-vous à récupérer son secret ? Si oui, comment ?\n",
    "\n",
    "(oui, c'est faisable. Spoiler: toujours plus d'ajax ;-) )"
   ]
  },
  {
   "cell_type": "raw",
   "metadata": {},
   "source": []
  }
 ],
 "metadata": {
  "kernelspec": {
   "display_name": "Python 3",
   "language": "python",
   "name": "python3"
  },
  "language_info": {
   "codemirror_mode": {
    "name": "ipython",
    "version": 3
   },
   "file_extension": ".py",
   "mimetype": "text/x-python",
   "name": "python",
   "nbconvert_exporter": "python",
   "pygments_lexer": "ipython3",
   "version": "3.8.5"
  }
 },
 "nbformat": 4,
 "nbformat_minor": 2
}
